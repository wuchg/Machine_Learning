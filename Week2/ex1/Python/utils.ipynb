{
 "cells": [
  {
   "cell_type": "code",
   "execution_count": null,
   "metadata": {},
   "outputs": [],
   "source": [
    "import numpy as np \n",
    "import pandas as pd\n",
    "import matplotlib.pyplot as plt\n",
    "\n",
    "from matplotlib import cm\n",
    "from numpy.linalg import inv\n",
    "from pandas import DataFrame\n",
    "from mpl_toolkits.mplot3d import Axes3D\n",
    "import scipy.io as sio\n",
    "\n",
    "def J(X,y,theta):\n",
    "    m=X.shape[0]\n",
    "    cv=sum((X*theta-y).T*(X*theta-y))/2/m\n",
    "    return  np.around(cv,decimals=2)\n",
    "\n",
    "def gradientDescent(X,y,alpha,iterations):\n",
    "    theta=np.zeros((X.shape[1],1))\n",
    "    m=X.shape[0]\n",
    "    for i in range(0,iterations):\n",
    "        theta=theta-np.multiply(alpha/m,X.T*(X*theta-y))\n",
    "    return np.around(theta,decimals=4)"
   ]
  }
 ],
 "metadata": {
  "kernelspec": {
   "display_name": "Python 3",
   "language": "python",
   "name": "python3"
  },
  "language_info": {
   "codemirror_mode": {
    "name": "ipython",
    "version": 3
   },
   "file_extension": ".py",
   "mimetype": "text/x-python",
   "name": "python",
   "nbconvert_exporter": "python",
   "pygments_lexer": "ipython3",
   "version": "3.6.0"
  }
 },
 "nbformat": 4,
 "nbformat_minor": 2
}
