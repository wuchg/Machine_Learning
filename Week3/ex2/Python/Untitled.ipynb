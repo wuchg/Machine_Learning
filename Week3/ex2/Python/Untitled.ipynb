{
 "cells": [
  {
   "cell_type": "code",
   "execution_count": 123,
   "metadata": {},
   "outputs": [],
   "source": [
    "import pandas as pd\n",
    "import numpy as np\n",
    "import scipy.optimize as op\n",
    "\n",
    "def loadDataSet():\n",
    "    df=pd.read_table(\"ex2data1.txt\",header=None,sep=',')\n",
    "    m=len(df[2].values)\n",
    "    y=np.mat(df[2].values).reshape(m,1)\n",
    "    X=np.mat(df[[0,1]].values)\n",
    "    X=np.hstack((np.ones((m,1)),X))\n",
    "    return X,y\n",
    "\n",
    "def h(z):\n",
    "    return 1.0/(1+np.exp(-z))\n",
    "\n",
    "\n",
    "\n",
    "def J(theta,X,y,lmd):\n",
    "    m=len(X)\n",
    "    E=np.ones((m,1))\n",
    "    Hx=h(X*theta)\n",
    "    tmpT=theta\n",
    "    tmpT[0,0]=0\n",
    "    r=lmd/2/m*sum(tmpT*tmpT.T)\n",
    "    return round((sum(np.multiply(-y,np.log(Hx))-np.multiply(E-y,np.log(E-Hx)))/m)[0,0]+r[0],3)\n",
    "\n",
    "#minimize 参数默认是 array\n",
    "def cost(theta,X,y):\n",
    "    m=len(X)\n",
    "    E=np.ones((m,1))\n",
    "    Hx=h(X*(np.mat(theta).T))\n",
    "    return round((sum(np.multiply(-y,np.log(Hx))-np.multiply(E-y,np.log(E-Hx)))/m)[0,0],3)\n",
    "\n",
    "\n",
    "def gradient(theta,X,y):\n",
    "    m=len(X)\n",
    "    grad=(X.T*(h(X*np.mat(theta).T)-y))/m\n",
    "    return grad.flatten()\n"
   ]
  },
  {
   "cell_type": "code",
   "execution_count": 107,
   "metadata": {},
   "outputs": [],
   "source": [
    "X,y=loadDataSet()"
   ]
  },
  {
   "cell_type": "code",
   "execution_count": 124,
   "metadata": {},
   "outputs": [
    {
     "data": {
      "text/plain": [
       "0.693"
      ]
     },
     "execution_count": 124,
     "metadata": {},
     "output_type": "execute_result"
    }
   ],
   "source": [
    "J(np.zeros((X.shape[1],1)),X,y,0)"
   ]
  },
  {
   "cell_type": "code",
   "execution_count": 120,
   "metadata": {
    "scrolled": true
   },
   "outputs": [
    {
     "data": {
      "text/plain": [
       "     fun: 0.205\n",
       "     jac: matrix([[-0.0030414 , -0.0528271 , -0.38655639]])\n",
       " message: 'Converged (|f_n-f_(n-1)| ~= 0)'\n",
       "    nfev: 58\n",
       "     nit: 9\n",
       "  status: 1\n",
       " success: True\n",
       "       x: array([-23.68500929,   0.19862748,   0.18435951])"
      ]
     },
     "execution_count": 120,
     "metadata": {},
     "output_type": "execute_result"
    }
   ],
   "source": [
    "init_theta=np.zeros((1,X.shape[1]))\n",
    "op.minimize(fun=cost, x0=init_theta, args=(X, y),method='TNC', jac=gradient)"
   ]
  },
  {
   "cell_type": "code",
   "execution_count": null,
   "metadata": {},
   "outputs": [],
   "source": []
  }
 ],
 "metadata": {
  "kernelspec": {
   "display_name": "Python 3",
   "language": "python",
   "name": "python3"
  }
 },
 "nbformat": 4,
 "nbformat_minor": 2
}
